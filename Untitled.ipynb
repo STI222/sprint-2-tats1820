{
 "cells": [
  {
   "cell_type": "code",
   "execution_count": 59,
   "id": "158926a8",
   "metadata": {},
   "outputs": [
    {
     "data": {
      "text/html": [
       "<div>\n",
       "<style scoped>\n",
       "    .dataframe tbody tr th:only-of-type {\n",
       "        vertical-align: middle;\n",
       "    }\n",
       "\n",
       "    .dataframe tbody tr th {\n",
       "        vertical-align: top;\n",
       "    }\n",
       "\n",
       "    .dataframe thead th {\n",
       "        text-align: right;\n",
       "    }\n",
       "</style>\n",
       "<table border=\"1\" class=\"dataframe\">\n",
       "  <thead>\n",
       "    <tr style=\"text-align: right;\">\n",
       "      <th></th>\n",
       "      <th>caracteriatica1</th>\n",
       "      <th>caracteriatica2</th>\n",
       "      <th>caracteriatica3</th>\n",
       "      <th>caracteriatica4</th>\n",
       "    </tr>\n",
       "    <tr>\n",
       "      <th>Nombre</th>\n",
       "      <th></th>\n",
       "      <th></th>\n",
       "      <th></th>\n",
       "      <th></th>\n",
       "    </tr>\n",
       "  </thead>\n",
       "  <tbody>\n",
       "    <tr>\n",
       "      <th>Nicolas</th>\n",
       "      <td>0.99</td>\n",
       "      <td>0.63</td>\n",
       "      <td>0.65</td>\n",
       "      <td>0.62</td>\n",
       "    </tr>\n",
       "    <tr>\n",
       "      <th>Juanito</th>\n",
       "      <td>0.36</td>\n",
       "      <td>0.28</td>\n",
       "      <td>0.87</td>\n",
       "      <td>0.86</td>\n",
       "    </tr>\n",
       "    <tr>\n",
       "      <th>Valentina</th>\n",
       "      <td>0.18</td>\n",
       "      <td>0.73</td>\n",
       "      <td>0.63</td>\n",
       "      <td>0.41</td>\n",
       "    </tr>\n",
       "    <tr>\n",
       "      <th>Diana</th>\n",
       "      <td>0.68</td>\n",
       "      <td>0.89</td>\n",
       "      <td>0.20</td>\n",
       "      <td>0.23</td>\n",
       "    </tr>\n",
       "  </tbody>\n",
       "</table>\n",
       "</div>"
      ],
      "text/plain": [
       "           caracteriatica1  caracteriatica2  caracteriatica3  caracteriatica4\n",
       "Nombre                                                                       \n",
       "Nicolas               0.99             0.63             0.65             0.62\n",
       "Juanito               0.36             0.28             0.87             0.86\n",
       "Valentina             0.18             0.73             0.63             0.41\n",
       "Diana                 0.68             0.89             0.20             0.23"
      ]
     },
     "execution_count": 59,
     "metadata": {},
     "output_type": "execute_result"
    }
   ],
   "source": [
    "import pandas as pd\n",
    "import numpy as np\n",
    "#es un módulo estándar de Python que proporciona funciones y constantes matemáticas.s\n",
    "import math\n",
    "#ipywidgets es una biblioteca de Python que proporciona herramientas para crear widgets interactivos\n",
    "import ipywidgets as widgets\n",
    "\n",
    "# Carga la base de datos\n",
    "df = pd.read_csv('archivo.csv',index_col=0)\n",
    "df"
   ]
  },
  {
   "cell_type": "code",
   "execution_count": 60,
   "id": "8f5ca20f",
   "metadata": {},
   "outputs": [],
   "source": [
    "# Crea listas desplegables con los nombres de los elementos de la base de datos\n",
    "elementos = df.index.tolist()\n",
    "elementos_dropdown1 = widgets.Dropdown(options=elementos, value=elementos[0], description='Nombre 1:')\n",
    "elementos_dropdown2 = widgets.Dropdown(options=elementos, value=elementos[1], description='Nombre 2:')"
   ]
  },
  {
   "cell_type": "code",
   "execution_count": 61,
   "id": "d454575b",
   "metadata": {},
   "outputs": [],
   "source": [
    "# Función que calcula la similitud coseno entre dos elementos\n",
    "def similitud_coseno(elemento1, elemento2):\n",
    "    #es una función del módulo NumPy en Python que se utiliza para realizar la multiplicación matricial entre dos matrices.\n",
    "    #e utiliza para seleccionar filas y columnas\n",
    "    #np.linalg.norm: calcula la norma de una matriz o un vector./proporciona una colección de funciones para álgebra lineal.\n",
    "    similitud = np.dot(df.loc[elemento1], df.loc[elemento2]) / (np.linalg.norm(df.loc[elemento1]) * np.linalg.norm(df.loc[elemento2]))\n",
    "    angulo = math.acos(similitud)\n",
    "    return round(angulo, 4)"
   ]
  },
  {
   "cell_type": "code",
   "execution_count": 62,
   "id": "ebc448c5",
   "metadata": {},
   "outputs": [],
   "source": [
    "# Función que se ejecuta cuando se presiona el botón 'Ejecutar'\n",
    "def on_button_click(b):\n",
    "    resultado = similitud_coseno(elementos_dropdown1.value, elementos_dropdown2.value)\n",
    "    distancia_label.value = f\"La similitud coseno entre {elementos_dropdown1.value} y {elementos_dropdown2.value} es {resultado}\""
   ]
  },
  {
   "cell_type": "code",
   "execution_count": 63,
   "id": "fd3a0373",
   "metadata": {},
   "outputs": [],
   "source": [
    "# Crea el botón de 'Ejecutar'\n",
    "efectuar_button = widgets.Button(description=\"Efectuar\")\n",
    "efectuar_button.on_click(on_button_click)"
   ]
  },
  {
   "cell_type": "code",
   "execution_count": 64,
   "id": "f9bcf4cb",
   "metadata": {},
   "outputs": [],
   "source": [
    "# Crea un espacio para presentar el resultado\n",
    "distancia_label = widgets.Label()"
   ]
  },
  {
   "cell_type": "code",
   "execution_count": 65,
   "id": "5921e811",
   "metadata": {},
   "outputs": [
    {
     "data": {
      "application/vnd.jupyter.widget-view+json": {
       "model_id": "59dd9100134244e59e8f82fdfd01a16f",
       "version_major": 2,
       "version_minor": 0
      },
      "text/plain": [
       "VBox(children=(Dropdown(description='Nombre 1:', options=('Nicolas', 'Juanito', 'Valentina', 'Diana'), value='…"
      ]
     },
     "metadata": {},
     "output_type": "display_data"
    }
   ],
   "source": [
    "# Crea la interfaz gráfica\n",
    "widgets.VBox([elementos_dropdown1, elementos_dropdown2, efectuar_button, distancia_label])"
   ]
  },
  {
   "cell_type": "code",
   "execution_count": null,
   "id": "e3e96972",
   "metadata": {},
   "outputs": [],
   "source": []
  }
 ],
 "metadata": {
  "kernelspec": {
   "display_name": "base",
   "language": "python",
   "name": "python3"
  },
  "language_info": {
   "codemirror_mode": {
    "name": "ipython",
    "version": 3
   },
   "file_extension": ".py",
   "mimetype": "text/x-python",
   "name": "python",
   "nbconvert_exporter": "python",
   "pygments_lexer": "ipython3",
   "version": "3.9.13"
  },
  "vscode": {
   "interpreter": {
    "hash": "d1891277bf170f8217480dc3797c23ae92957e6e727336131ee691c20ada3308"
   }
  }
 },
 "nbformat": 4,
 "nbformat_minor": 5
}
